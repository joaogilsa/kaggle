{
 "cells": [
  {
   "cell_type": "code",
   "execution_count": 1,
   "metadata": {},
   "outputs": [],
   "source": [
    "import pandas as pd\n",
    "import numpy as np\n",
    "import re\n",
    "import string\n",
    "import math\n",
    "import hashlib\n",
    "import os\n",
    "\n",
    "from sklearn.feature_selection import mutual_info_classif\n",
    "from sklearn import preprocessing\n",
    "from sklearn.linear_model import LinearRegression, LogisticRegression\n",
    "from sklearn.model_selection import train_test_split\n",
    "from sklearn.pipeline import make_pipeline, Pipeline\n",
    "from sklearn.metrics import confusion_matrix,roc_auc_score,roc_curve,classification_report,auc,precision_score,recall_score,precision_recall_curve\n",
    "from sklearn.ensemble import RandomForestClassifier, GradientBoostingClassifier\n",
    "import lightgbm as lgb\n"
   ]
  },
  {
   "cell_type": "markdown",
   "metadata": {},
   "source": [
    "### Data loading"
   ]
  },
  {
   "cell_type": "code",
   "execution_count": 2,
   "metadata": {},
   "outputs": [],
   "source": [
    "with open(os.path.join(\"data\", \"train.csv\")) as f:\n",
    "    # read the training dataset\n",
    "    df = pd.read_csv(f)\n",
    "\n",
    "with open(os.path.join(\"data\", \"test.csv\")) as f:\n",
    "    # read the test dataset\n",
    "    X_test = pd.read_csv(f)\n",
    "\n",
    "df['defects'] = df['defects'].apply(lambda x: 1 if x == True else 0)\n",
    "\n",
    "X = df.drop(['defects'], axis=1)\n",
    "y = df['defects']"
   ]
  },
  {
   "cell_type": "markdown",
   "metadata": {},
   "source": [
    "### Baseline Model"
   ]
  },
  {
   "cell_type": "code",
   "execution_count": 3,
   "metadata": {},
   "outputs": [
    {
     "data": {
      "text/plain": [
       "Pipeline(steps=[('processing', MinMaxScaler()),\n",
       "                ('clf',\n",
       "                 RandomForestClassifier(class_weight='balanced', max_depth=3,\n",
       "                                        min_samples_leaf=0.03, n_jobs=-1,\n",
       "                                        random_state=42))])"
      ]
     },
     "execution_count": 3,
     "metadata": {},
     "output_type": "execute_result"
    }
   ],
   "source": [
    "nice_corrs = ['loc', 'v(g)', 'ev(g)', 'n', 'l', 'lOCode', 'lOBlank', 'total_Op', 'total_Opnd', 'branchCount']\n",
    "process = preprocessing.MinMaxScaler()\n",
    "\n",
    "rf = RandomForestClassifier(max_depth = 3,class_weight=\"balanced\", min_samples_leaf = .03, random_state=42, n_jobs=-1)\n",
    "\n",
    "pipeline_base = Pipeline(steps=[('processing',process),\n",
    "                           ('clf',rf)])\n",
    "\n",
    "features = nice_corrs\n",
    "X_train, X_val, y_train, y_val = train_test_split(X, y, test_size = 0.3)\n",
    "\n",
    "X_train_baseline = X_train[features]\n",
    "\n",
    "pipeline_base.fit(X_train_baseline, y_train)"
   ]
  },
  {
   "cell_type": "code",
   "execution_count": 4,
   "metadata": {},
   "outputs": [
    {
     "name": "stdout",
     "output_type": "stream",
     "text": [
      "ROC score of baseline: 0.7157187446199188\n"
     ]
    }
   ],
   "source": [
    "y_probas = pipeline_base.predict_proba(X_val[features])\n",
    "y_val_proba_1 = pd.DataFrame(y_probas,columns=['No defect','Defect'])\n",
    "y_val_pred = y_val_proba_1.Defect.apply(lambda x: 1 if x>0.6 else 0)\n",
    "print('ROC score of {}: {}'.format('baseline',roc_auc_score(y_val, y_val_pred)))"
   ]
  },
  {
   "cell_type": "markdown",
   "metadata": {},
   "source": [
    "# Model improvement"
   ]
  },
  {
   "cell_type": "code",
   "execution_count": 5,
   "metadata": {},
   "outputs": [
    {
     "name": "stdout",
     "output_type": "stream",
     "text": [
      "LightGBM, recall: 0.2638788752703677; precision: 0.7038461538461539; roc: 0.6156217297433471 \n",
      "Logistic Regression, recall: 0.1299206921413122; precision: 0.7271993543179984; roc: 0.5577975080609925 \n",
      "Best precision with classifier LightGBM\n"
     ]
    }
   ],
   "source": [
    "pipeline_logr = Pipeline(steps=[('processing',process),\n",
    "                     ('classifier_LogisticRegression', LogisticRegression(solver='liblinear', random_state=42))])\n",
    "pipeline_light = Pipeline(steps=[('processing',process),\n",
    "                     ('classifier_light', lgb.LGBMClassifier(learning_rate=0.09,max_depth=-5,random_state=42))])\n",
    "\n",
    "\n",
    "pipelines = [pipeline_light, pipeline_logr]\n",
    "pipe_dict = {0: 'LightGBM', 1:'Logistic Regression'}\n",
    "\n",
    "for pipe in pipelines:\n",
    "    pipe.fit(X_train, y_train)\n",
    "\n",
    "best_precision = 0.0\n",
    "best_classifier = 0\n",
    "best_ROC = 0\n",
    "best_pipeline = ''\n",
    "prediction_dict={}\n",
    "\n",
    "for i, model in enumerate (pipelines) : \n",
    "    y_scores = model.predict_proba(X_val)#[:,1]\n",
    "    y_val_proba_1 = pd.DataFrame(y_scores,columns=['No_defects','Defects'])\n",
    "    y_val_pred = y_val_proba_1.Defects.apply(lambda x: 1 if x>0.6 else 0)\n",
    "    # precision, recall, thresholds = precision_recall_curve(y_test_true, y_scores)\n",
    "    precision = precision_score(y_val, y_val_pred)\n",
    "    recall = recall_score(y_val, y_val_pred)\n",
    "    roc = roc_auc_score(y_val, y_val_pred)\n",
    "\n",
    "    print(f'{pipe_dict[i]}, recall: {recall}; precision: {precision}; roc: {roc} ')\n",
    "    prediction_dict[pipe_dict[i]]=[y_val_pred, precision]\n",
    "\n",
    "    if roc > best_ROC:\n",
    "        best_ROC = roc\n",
    "        best_pipeline = model\n",
    "        best_classifier = i\n",
    "print('Best precision with classifier {}'.format(pipe_dict[best_classifier]))"
   ]
  }
 ],
 "metadata": {
  "kernelspec": {
   "display_name": "kaggle",
   "language": "python",
   "name": "python3"
  },
  "language_info": {
   "codemirror_mode": {
    "name": "ipython",
    "version": 3
   },
   "file_extension": ".py",
   "mimetype": "text/x-python",
   "name": "python",
   "nbconvert_exporter": "python",
   "pygments_lexer": "ipython3",
   "version": "3.8.16"
  }
 },
 "nbformat": 4,
 "nbformat_minor": 2
}
